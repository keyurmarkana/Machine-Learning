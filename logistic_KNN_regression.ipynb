{
 "cells": [
  {
   "cell_type": "code",
   "execution_count": 320,
   "id": "30428304",
   "metadata": {},
   "outputs": [],
   "source": [
    "import numpy as np\n",
    "import pandas as pd\n",
    "import seaborn as sns\n",
    "import matplotlib.pyplot as plt"
   ]
  },
  {
   "cell_type": "code",
   "execution_count": 321,
   "id": "437da8a3",
   "metadata": {},
   "outputs": [
    {
     "data": {
      "text/html": [
       "<div>\n",
       "<style scoped>\n",
       "    .dataframe tbody tr th:only-of-type {\n",
       "        vertical-align: middle;\n",
       "    }\n",
       "\n",
       "    .dataframe tbody tr th {\n",
       "        vertical-align: top;\n",
       "    }\n",
       "\n",
       "    .dataframe thead th {\n",
       "        text-align: right;\n",
       "    }\n",
       "</style>\n",
       "<table border=\"1\" class=\"dataframe\">\n",
       "  <thead>\n",
       "    <tr style=\"text-align: right;\">\n",
       "      <th></th>\n",
       "      <th>sepal_length</th>\n",
       "      <th>sepal_width</th>\n",
       "      <th>petal_length</th>\n",
       "      <th>petal_width</th>\n",
       "      <th>species</th>\n",
       "    </tr>\n",
       "  </thead>\n",
       "  <tbody>\n",
       "    <tr>\n",
       "      <th>0</th>\n",
       "      <td>5.1</td>\n",
       "      <td>3.5</td>\n",
       "      <td>1.4</td>\n",
       "      <td>0.2</td>\n",
       "      <td>setosa</td>\n",
       "    </tr>\n",
       "    <tr>\n",
       "      <th>1</th>\n",
       "      <td>4.9</td>\n",
       "      <td>3.0</td>\n",
       "      <td>1.4</td>\n",
       "      <td>0.2</td>\n",
       "      <td>setosa</td>\n",
       "    </tr>\n",
       "    <tr>\n",
       "      <th>2</th>\n",
       "      <td>4.7</td>\n",
       "      <td>3.2</td>\n",
       "      <td>1.3</td>\n",
       "      <td>0.2</td>\n",
       "      <td>setosa</td>\n",
       "    </tr>\n",
       "    <tr>\n",
       "      <th>3</th>\n",
       "      <td>4.6</td>\n",
       "      <td>3.1</td>\n",
       "      <td>1.5</td>\n",
       "      <td>0.2</td>\n",
       "      <td>setosa</td>\n",
       "    </tr>\n",
       "    <tr>\n",
       "      <th>4</th>\n",
       "      <td>5.0</td>\n",
       "      <td>3.6</td>\n",
       "      <td>1.4</td>\n",
       "      <td>0.2</td>\n",
       "      <td>setosa</td>\n",
       "    </tr>\n",
       "    <tr>\n",
       "      <th>...</th>\n",
       "      <td>...</td>\n",
       "      <td>...</td>\n",
       "      <td>...</td>\n",
       "      <td>...</td>\n",
       "      <td>...</td>\n",
       "    </tr>\n",
       "    <tr>\n",
       "      <th>145</th>\n",
       "      <td>6.7</td>\n",
       "      <td>3.0</td>\n",
       "      <td>5.2</td>\n",
       "      <td>2.3</td>\n",
       "      <td>virginica</td>\n",
       "    </tr>\n",
       "    <tr>\n",
       "      <th>146</th>\n",
       "      <td>6.3</td>\n",
       "      <td>2.5</td>\n",
       "      <td>5.0</td>\n",
       "      <td>1.9</td>\n",
       "      <td>virginica</td>\n",
       "    </tr>\n",
       "    <tr>\n",
       "      <th>147</th>\n",
       "      <td>6.5</td>\n",
       "      <td>3.0</td>\n",
       "      <td>5.2</td>\n",
       "      <td>2.0</td>\n",
       "      <td>virginica</td>\n",
       "    </tr>\n",
       "    <tr>\n",
       "      <th>148</th>\n",
       "      <td>6.2</td>\n",
       "      <td>3.4</td>\n",
       "      <td>5.4</td>\n",
       "      <td>2.3</td>\n",
       "      <td>virginica</td>\n",
       "    </tr>\n",
       "    <tr>\n",
       "      <th>149</th>\n",
       "      <td>5.9</td>\n",
       "      <td>3.0</td>\n",
       "      <td>5.1</td>\n",
       "      <td>1.8</td>\n",
       "      <td>virginica</td>\n",
       "    </tr>\n",
       "  </tbody>\n",
       "</table>\n",
       "<p>150 rows × 5 columns</p>\n",
       "</div>"
      ],
      "text/plain": [
       "     sepal_length  sepal_width  petal_length  petal_width    species\n",
       "0             5.1          3.5           1.4          0.2     setosa\n",
       "1             4.9          3.0           1.4          0.2     setosa\n",
       "2             4.7          3.2           1.3          0.2     setosa\n",
       "3             4.6          3.1           1.5          0.2     setosa\n",
       "4             5.0          3.6           1.4          0.2     setosa\n",
       "..            ...          ...           ...          ...        ...\n",
       "145           6.7          3.0           5.2          2.3  virginica\n",
       "146           6.3          2.5           5.0          1.9  virginica\n",
       "147           6.5          3.0           5.2          2.0  virginica\n",
       "148           6.2          3.4           5.4          2.3  virginica\n",
       "149           5.9          3.0           5.1          1.8  virginica\n",
       "\n",
       "[150 rows x 5 columns]"
      ]
     },
     "execution_count": 321,
     "metadata": {},
     "output_type": "execute_result"
    }
   ],
   "source": [
    "k=pd.read_csv('iris_dataset.csv')\n",
    "k"
   ]
  },
  {
   "cell_type": "code",
   "execution_count": 322,
   "id": "ec947367",
   "metadata": {},
   "outputs": [],
   "source": [
    "x=k[['sepal_length','sepal_width','petal_length','petal_width']]\n",
    "y=k[['species']]"
   ]
  },
  {
   "cell_type": "code",
   "execution_count": 323,
   "id": "430fdb1f",
   "metadata": {},
   "outputs": [],
   "source": [
    "from sklearn.model_selection import train_test_split\n",
    "\n",
    "x_train,x_test,y_train,y_test=train_test_split(x,y,test_size=0.4)"
   ]
  },
  {
   "cell_type": "code",
   "execution_count": 324,
   "id": "4214a568",
   "metadata": {},
   "outputs": [
    {
     "name": "stderr",
     "output_type": "stream",
     "text": [
      "/opt/anaconda3/lib/python3.9/site-packages/sklearn/utils/validation.py:993: DataConversionWarning: A column-vector y was passed when a 1d array was expected. Please change the shape of y to (n_samples, ), for example using ravel().\n",
      "  y = column_or_1d(y, warn=True)\n"
     ]
    },
    {
     "data": {
      "text/plain": [
       "LogisticRegression()"
      ]
     },
     "execution_count": 324,
     "metadata": {},
     "output_type": "execute_result"
    }
   ],
   "source": [
    "from sklearn.linear_model import LogisticRegression\n",
    "reg=LogisticRegression()\n",
    "reg.fit(x_train,y_train)"
   ]
  },
  {
   "cell_type": "code",
   "execution_count": 325,
   "id": "abec9a05",
   "metadata": {},
   "outputs": [
    {
     "data": {
      "text/plain": [
       "array(['virginica', 'virginica', 'setosa', 'virginica', 'virginica',\n",
       "       'virginica', 'setosa', 'versicolor', 'setosa', 'setosa',\n",
       "       'versicolor', 'setosa', 'virginica', 'virginica', 'virginica',\n",
       "       'versicolor', 'setosa', 'versicolor', 'setosa', 'versicolor',\n",
       "       'versicolor', 'setosa', 'setosa', 'virginica', 'virginica',\n",
       "       'virginica', 'setosa', 'virginica', 'setosa', 'versicolor',\n",
       "       'virginica', 'virginica', 'virginica', 'setosa', 'versicolor',\n",
       "       'versicolor', 'virginica', 'versicolor', 'virginica', 'virginica',\n",
       "       'setosa', 'versicolor', 'versicolor', 'versicolor', 'setosa',\n",
       "       'versicolor', 'setosa', 'versicolor', 'setosa', 'virginica',\n",
       "       'setosa', 'versicolor', 'virginica', 'virginica', 'setosa',\n",
       "       'setosa', 'versicolor', 'setosa', 'setosa', 'virginica'],\n",
       "      dtype=object)"
      ]
     },
     "execution_count": 325,
     "metadata": {},
     "output_type": "execute_result"
    }
   ],
   "source": [
    "p=reg.predict(x_test)\n",
    "p"
   ]
  },
  {
   "cell_type": "code",
   "execution_count": 326,
   "id": "d00cb38c",
   "metadata": {},
   "outputs": [
    {
     "data": {
      "text/plain": [
       "0.95"
      ]
     },
     "execution_count": 326,
     "metadata": {},
     "output_type": "execute_result"
    }
   ],
   "source": [
    "from sklearn.metrics import accuracy_score,precision_score,recall_score,f1_score\n",
    "from sklearn.metrics import confusion_matrix\n",
    "a=accuracy_score(y_test,p)\n",
    "a"
   ]
  },
  {
   "cell_type": "code",
   "execution_count": 327,
   "id": "e728ad26",
   "metadata": {},
   "outputs": [],
   "source": [
    "#Knn\n",
    "from sklearn.neighbors import KNeighborsClassifier\n",
    "knn=KNeighborsClassifier(n_neighbors=5)"
   ]
  },
  {
   "cell_type": "code",
   "execution_count": 328,
   "id": "446d8c3a",
   "metadata": {},
   "outputs": [
    {
     "name": "stderr",
     "output_type": "stream",
     "text": [
      "/opt/anaconda3/lib/python3.9/site-packages/sklearn/neighbors/_classification.py:198: DataConversionWarning: A column-vector y was passed when a 1d array was expected. Please change the shape of y to (n_samples,), for example using ravel().\n",
      "  return self._fit(X, y)\n"
     ]
    },
    {
     "data": {
      "text/plain": [
       "KNeighborsClassifier()"
      ]
     },
     "execution_count": 328,
     "metadata": {},
     "output_type": "execute_result"
    }
   ],
   "source": [
    "knn.fit(x_train,y_train)"
   ]
  },
  {
   "cell_type": "code",
   "execution_count": 329,
   "id": "e0b62f69",
   "metadata": {},
   "outputs": [],
   "source": [
    "predict_knn=knn.predict(x_test)"
   ]
  },
  {
   "cell_type": "code",
   "execution_count": 330,
   "id": "fe03c93c",
   "metadata": {},
   "outputs": [
    {
     "data": {
      "text/plain": [
       "array(['virginica', 'virginica', 'setosa', 'virginica', 'virginica',\n",
       "       'virginica', 'setosa', 'versicolor', 'setosa', 'setosa',\n",
       "       'versicolor', 'setosa', 'virginica', 'virginica', 'virginica',\n",
       "       'versicolor', 'setosa', 'versicolor', 'setosa', 'versicolor',\n",
       "       'versicolor', 'setosa', 'setosa', 'virginica', 'virginica',\n",
       "       'virginica', 'setosa', 'virginica', 'setosa', 'versicolor',\n",
       "       'virginica', 'virginica', 'virginica', 'setosa', 'versicolor',\n",
       "       'versicolor', 'virginica', 'versicolor', 'virginica', 'virginica',\n",
       "       'setosa', 'versicolor', 'versicolor', 'versicolor', 'setosa',\n",
       "       'versicolor', 'setosa', 'versicolor', 'setosa', 'virginica',\n",
       "       'setosa', 'versicolor', 'virginica', 'virginica', 'setosa',\n",
       "       'setosa', 'versicolor', 'setosa', 'setosa', 'virginica'],\n",
       "      dtype=object)"
      ]
     },
     "execution_count": 330,
     "metadata": {},
     "output_type": "execute_result"
    }
   ],
   "source": [
    "\n",
    "predict_knn"
   ]
  },
  {
   "cell_type": "code",
   "execution_count": 338,
   "id": "e0870593",
   "metadata": {},
   "outputs": [
    {
     "data": {
      "text/plain": [
       "0.95"
      ]
     },
     "execution_count": 338,
     "metadata": {},
     "output_type": "execute_result"
    }
   ],
   "source": [
    "knn=accuracy_score(y_test,predict_knn)\n",
    "knn"
   ]
  },
  {
   "cell_type": "code",
   "execution_count": 332,
   "id": "655b4b80",
   "metadata": {},
   "outputs": [],
   "source": [
    "#Svc algoritham\n",
    "\n",
    "from sklearn.svm import SVC\n",
    "svm=SVC(kernel = 'linear')"
   ]
  },
  {
   "cell_type": "code",
   "execution_count": 333,
   "id": "8b0010f9",
   "metadata": {},
   "outputs": [
    {
     "name": "stderr",
     "output_type": "stream",
     "text": [
      "/opt/anaconda3/lib/python3.9/site-packages/sklearn/utils/validation.py:993: DataConversionWarning: A column-vector y was passed when a 1d array was expected. Please change the shape of y to (n_samples, ), for example using ravel().\n",
      "  y = column_or_1d(y, warn=True)\n"
     ]
    }
   ],
   "source": [
    "k=svm.fit(x_train,y_train)"
   ]
  },
  {
   "cell_type": "code",
   "execution_count": 334,
   "id": "0afc6999",
   "metadata": {},
   "outputs": [
    {
     "data": {
      "text/plain": [
       "0.9666666666666667"
      ]
     },
     "execution_count": 334,
     "metadata": {},
     "output_type": "execute_result"
    }
   ],
   "source": [
    "svm_predict=svm.predict(x_test)\n",
    "acc_svm=accuracy_score(y_test,svm_predict)\n",
    "acc_svm"
   ]
  },
  {
   "cell_type": "code",
   "execution_count": 335,
   "id": "0c4020db",
   "metadata": {},
   "outputs": [
    {
     "data": {
      "text/plain": [
       "array(['virginica', 'virginica', 'setosa', 'virginica', 'virginica',\n",
       "       'virginica', 'setosa', 'versicolor', 'setosa', 'setosa',\n",
       "       'versicolor', 'setosa', 'virginica', 'virginica', 'virginica',\n",
       "       'versicolor', 'setosa', 'versicolor', 'setosa', 'versicolor',\n",
       "       'versicolor', 'setosa', 'setosa', 'virginica', 'virginica',\n",
       "       'virginica', 'setosa', 'virginica', 'setosa', 'versicolor',\n",
       "       'virginica', 'virginica', 'virginica', 'setosa', 'versicolor',\n",
       "       'versicolor', 'virginica', 'versicolor', 'virginica', 'virginica',\n",
       "       'setosa', 'versicolor', 'versicolor', 'versicolor', 'setosa',\n",
       "       'versicolor', 'setosa', 'virginica', 'setosa', 'virginica',\n",
       "       'setosa', 'versicolor', 'virginica', 'virginica', 'setosa',\n",
       "       'setosa', 'versicolor', 'setosa', 'setosa', 'virginica'],\n",
       "      dtype=object)"
      ]
     },
     "execution_count": 335,
     "metadata": {},
     "output_type": "execute_result"
    }
   ],
   "source": [
    "svm_predict"
   ]
  },
  {
   "cell_type": "code",
   "execution_count": 336,
   "id": "d7ed0889",
   "metadata": {},
   "outputs": [
    {
     "data": {
      "text/plain": [
       "DecisionTreeClassifier()"
      ]
     },
     "execution_count": 336,
     "metadata": {},
     "output_type": "execute_result"
    }
   ],
   "source": [
    "#DEcision Tree\n",
    "from sklearn.tree import DecisionTreeClassifier\n",
    "clf = DecisionTreeClassifier()\n",
    "clf.fit(x_train,y_train)"
   ]
  },
  {
   "cell_type": "code",
   "execution_count": 337,
   "id": "8e4e9519",
   "metadata": {},
   "outputs": [
    {
     "data": {
      "text/plain": [
       "0.95"
      ]
     },
     "execution_count": 337,
     "metadata": {},
     "output_type": "execute_result"
    }
   ],
   "source": [
    "dt_pr=clf.predict(x_test)\n",
    "acc_dt = accuracy_score(y_test,dt_pr)\n",
    "acc_dt"
   ]
  },
  {
   "cell_type": "code",
   "execution_count": null,
   "id": "f9368bbc",
   "metadata": {},
   "outputs": [],
   "source": [
    "g=[a,knn,acc_dt,acc_svm,]\n",
    "label=[\"logistic\",\"knn\",\"Decision Tree\",\"\"]"
   ]
  },
  {
   "cell_type": "code",
   "execution_count": null,
   "id": "d8b45797",
   "metadata": {},
   "outputs": [],
   "source": []
  }
 ],
 "metadata": {
  "kernelspec": {
   "display_name": "Python 3 (ipykernel)",
   "language": "python",
   "name": "python3"
  },
  "language_info": {
   "codemirror_mode": {
    "name": "ipython",
    "version": 3
   },
   "file_extension": ".py",
   "mimetype": "text/x-python",
   "name": "python",
   "nbconvert_exporter": "python",
   "pygments_lexer": "ipython3",
   "version": "3.9.12"
  }
 },
 "nbformat": 4,
 "nbformat_minor": 5
}
