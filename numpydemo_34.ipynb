{
 "cells": [
  {
   "cell_type": "code",
   "execution_count": 5,
   "id": "044c444f",
   "metadata": {},
   "outputs": [
    {
     "name": "stdout",
     "output_type": "stream",
     "text": [
      "[[1 2 3]\n",
      " [4 5 6]]\n"
     ]
    }
   ],
   "source": [
    "import numpy as np\n",
    "k=np.array([[1,2,3],[4,5,6]])\n",
    "print(k)"
   ]
  },
  {
   "cell_type": "code",
   "execution_count": 6,
   "id": "4a1aed04",
   "metadata": {},
   "outputs": [
    {
     "name": "stdout",
     "output_type": "stream",
     "text": [
      "1\n",
      "2\n",
      "3\n",
      "4\n",
      "5\n",
      "6\n"
     ]
    }
   ],
   "source": [
    "for i in np.nditer(k):\n",
    "    print(i)"
   ]
  },
  {
   "cell_type": "code",
   "execution_count": 12,
   "id": "0a9b07ac",
   "metadata": {},
   "outputs": [
    {
     "name": "stdout",
     "output_type": "stream",
     "text": [
      "[array([[1, 2, 3],\n",
      "       [4, 5, 6]])]\n"
     ]
    }
   ],
   "source": [
    "vnew=np.vsplit(k,1)\n",
    "print(vnew)"
   ]
  },
  {
   "cell_type": "code",
   "execution_count": 10,
   "id": "f3ac64ba",
   "metadata": {},
   "outputs": [
    {
     "name": "stdout",
     "output_type": "stream",
     "text": [
      "sqrt [[1.         1.41421356 1.73205081]\n",
      " [2.         2.23606798 2.44948974]]\n"
     ]
    }
   ],
   "source": [
    "print(\"sqrt\",np.sqrt(k))#sqrt of array"
   ]
  },
  {
   "cell_type": "code",
   "execution_count": 13,
   "id": "d6f89378",
   "metadata": {},
   "outputs": [
    {
     "name": "stdout",
     "output_type": "stream",
     "text": [
      "exp [[  2.71828183   7.3890561   20.08553692]\n",
      " [ 54.59815003 148.4131591  403.42879349]]\n"
     ]
    }
   ],
   "source": [
    "print(\"exp\",np.exp(k))#exp of array"
   ]
  },
  {
   "cell_type": "code",
   "execution_count": 14,
   "id": "264d3a01",
   "metadata": {},
   "outputs": [
    {
     "name": "stdout",
     "output_type": "stream",
     "text": [
      "sin [[ 0.84147098  0.90929743  0.14112001]\n",
      " [-0.7568025  -0.95892427 -0.2794155 ]]\n"
     ]
    }
   ],
   "source": [
    "print(\"sin\",np.sin(k))#sin of array"
   ]
  },
  {
   "cell_type": "code",
   "execution_count": 15,
   "id": "5205564e",
   "metadata": {},
   "outputs": [
    {
     "name": "stdout",
     "output_type": "stream",
     "text": [
      "cos [[ 0.54030231 -0.41614684 -0.9899925 ]\n",
      " [-0.65364362  0.28366219  0.96017029]]\n"
     ]
    }
   ],
   "source": [
    "print(\"cos\",np.cos(k))#cos of array"
   ]
  },
  {
   "cell_type": "code",
   "execution_count": 16,
   "id": "1e16288a",
   "metadata": {},
   "outputs": [
    {
     "name": "stdout",
     "output_type": "stream",
     "text": [
      "21\n"
     ]
    }
   ],
   "source": [
    "print(k.sum())#sum"
   ]
  },
  {
   "cell_type": "code",
   "execution_count": 29,
   "id": "e4d0bcda",
   "metadata": {},
   "outputs": [
    {
     "name": "stdout",
     "output_type": "stream",
     "text": [
      "[[ 89  52]\n",
      " [119  65]]\n"
     ]
    }
   ],
   "source": [
    "v=[[6,5],[7,8]]#multiplication\n",
    "p=[[9,7],[7,2]]\n",
    "s=np.dot(v,p)\n",
    "print(s)"
   ]
  },
  {
   "cell_type": "code",
   "execution_count": 31,
   "id": "44f86575",
   "metadata": {
    "scrolled": true
   },
   "outputs": [
    {
     "name": "stdout",
     "output_type": "stream",
     "text": [
      "[[15 12]\n",
      " [14 10]]\n"
     ]
    }
   ],
   "source": [
    "v=[[6,5],[7,8]]#addition for tow array\n",
    "p=[[9,7],[7,2]]\n",
    "s=np.add(v,p)\n",
    "print(s)"
   ]
  },
  {
   "cell_type": "code",
   "execution_count": 35,
   "id": "00aec08d",
   "metadata": {},
   "outputs": [
    {
     "name": "stdout",
     "output_type": "stream",
     "text": [
      "[[6, 5]]\n"
     ]
    }
   ],
   "source": [
    "sliced_arr=v[:1] #array slicing\n",
    "print(sliced_arr)"
   ]
  },
  {
   "cell_type": "code",
   "execution_count": 36,
   "id": "23b24b15",
   "metadata": {},
   "outputs": [
    {
     "name": "stdout",
     "output_type": "stream",
     "text": [
      "all() with axis none <class 'bool'>\n",
      "all() with axis 0 <class 'bool'>\n"
     ]
    }
   ],
   "source": [
    "print(\"all() with axis none\",np.all(bool))\n",
    "print(\"all() with axis 0\",np.all(bool,axis=0))#any()"
   ]
  },
  {
   "cell_type": "code",
   "execution_count": 43,
   "id": "cff32ab9",
   "metadata": {},
   "outputs": [
    {
     "name": "stdout",
     "output_type": "stream",
     "text": [
      "[0 1 2 3 4 5 6 7]\n",
      "[[0 1 2 3]\n",
      " [4 5 6 7]]\n"
     ]
    }
   ],
   "source": [
    "temp=np.arange(8)#reshape to 2 row and 4 column\n",
    "print(temp)\n",
    "re=temp.reshape(2,4)\n",
    "print(re)"
   ]
  },
  {
   "cell_type": "code",
   "execution_count": 45,
   "id": "79babc00",
   "metadata": {},
   "outputs": [
    {
     "name": "stdout",
     "output_type": "stream",
     "text": [
      "Maximum is 7\n"
     ]
    }
   ],
   "source": [
    "print(\"Maximum is\",temp.max()) #max number find"
   ]
  },
  {
   "cell_type": "code",
   "execution_count": 53,
   "id": "11834c93",
   "metadata": {},
   "outputs": [
    {
     "name": "stdout",
     "output_type": "stream",
     "text": [
      "Vertical [[6 5]\n",
      " [7 8]\n",
      " [9 7]\n",
      " [7 2]]\n",
      "horizontal [[6 5 9 7]\n",
      " [7 8 7 2]]\n"
     ]
    }
   ],
   "source": [
    "merg=np.vstack((v,p)) #merging two array verticallly\n",
    "print(\"Vertical\",merg)\n",
    "merg=np.hstack((v,p)) #merging two array horizontally\n",
    "print(\"horizontal\",merg)"
   ]
  },
  {
   "cell_type": "code",
   "execution_count": 48,
   "id": "4933d17d",
   "metadata": {},
   "outputs": [
    {
     "name": "stdout",
     "output_type": "stream",
     "text": [
      "minimun is 0\n"
     ]
    }
   ],
   "source": [
    "print(\"minimun is\",temp.min())#minimun number find "
   ]
  },
  {
   "cell_type": "code",
   "execution_count": 55,
   "id": "ee26888a",
   "metadata": {},
   "outputs": [
    {
     "name": "stdout",
     "output_type": "stream",
     "text": [
      "standerd deviation 1.118033988749895\n"
     ]
    }
   ],
   "source": [
    "print(\"standerd deviation\",np.std(v))#standard deviation"
   ]
  },
  {
   "cell_type": "code",
   "execution_count": 58,
   "id": "03091c57",
   "metadata": {},
   "outputs": [
    {
     "name": "stdout",
     "output_type": "stream",
     "text": [
      "shape a:(2, 3)\n"
     ]
    }
   ],
   "source": [
    "print(\"shape a:{}\".format(k.shape))#shape of array\n",
    "\n"
   ]
  },
  {
   "cell_type": "code",
   "execution_count": 59,
   "id": "309807fd",
   "metadata": {},
   "outputs": [
    {
     "name": "stdout",
     "output_type": "stream",
     "text": [
      "ndim 2\n"
     ]
    }
   ],
   "source": [
    "print(\"ndim {}\".format(k.ndim))#diamentions of array"
   ]
  },
  {
   "cell_type": "code",
   "execution_count": 60,
   "id": "47f630a8",
   "metadata": {},
   "outputs": [
    {
     "name": "stdout",
     "output_type": "stream",
     "text": [
      "size 6\n"
     ]
    }
   ],
   "source": [
    "print(\"size {}\".format(k.size))#size of aaray"
   ]
  },
  {
   "cell_type": "code",
   "execution_count": 62,
   "id": "362efeda",
   "metadata": {},
   "outputs": [
    {
     "name": "stdout",
     "output_type": "stream",
     "text": [
      "dtype int64\n",
      "itemsize 8\n",
      "data <memory at 0x7f726c1b7ba0>\n"
     ]
    }
   ],
   "source": [
    "print(f\"dtype {k.dtype}\")#data type of array\n",
    "print(f\"itemsize {k.itemsize}\")#item size of array\n",
    "print(f\"data {k.data}\")"
   ]
  },
  {
   "cell_type": "code",
   "execution_count": null,
   "id": "f5548d31",
   "metadata": {},
   "outputs": [],
   "source": []
  }
 ],
 "metadata": {
  "kernelspec": {
   "display_name": "Python 3 (ipykernel)",
   "language": "python",
   "name": "python3"
  },
  "language_info": {
   "codemirror_mode": {
    "name": "ipython",
    "version": 3
   },
   "file_extension": ".py",
   "mimetype": "text/x-python",
   "name": "python",
   "nbconvert_exporter": "python",
   "pygments_lexer": "ipython3",
   "version": "3.9.12"
  }
 },
 "nbformat": 4,
 "nbformat_minor": 5
}
