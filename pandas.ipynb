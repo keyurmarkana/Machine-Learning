{
 "cells": [
  {
   "cell_type": "code",
   "execution_count": 3,
   "id": "74d36ea1",
   "metadata": {},
   "outputs": [],
   "source": [
    "import pandas as pd  "
   ]
  },
  {
   "cell_type": "code",
   "execution_count": 5,
   "id": "3ec7e74b",
   "metadata": {},
   "outputs": [
    {
     "name": "stdout",
     "output_type": "stream",
     "text": [
      "  Student  Addmission\n",
      "0   kevin        2003\n",
      "1  avinas        2024\n",
      "2   keyur        2022\n",
      "3   harsh        2023\n"
     ]
    }
   ],
   "source": [
    "dataset={\n",
    "    'Student':['kevin','avinas','keyur','harsh'],\n",
    "    'Addmission':[2003,2024,2022,2023]\n",
    "}\n",
    "demo=pd.DataFrame(dataset)\n",
    "print(demo)"
   ]
  },
  {
   "cell_type": "code",
   "execution_count": 7,
   "id": "00e53387",
   "metadata": {},
   "outputs": [
    {
     "name": "stdout",
     "output_type": "stream",
     "text": [
      "1.4.2\n"
     ]
    }
   ],
   "source": [
    "print(pd.__version__)"
   ]
  },
  {
   "cell_type": "code",
   "execution_count": 8,
   "id": "61d2fa4e",
   "metadata": {},
   "outputs": [
    {
     "name": "stdout",
     "output_type": "stream",
     "text": [
      "0    20\n",
      "1    30\n",
      "2    40\n",
      "3    50\n",
      "dtype: int64\n"
     ]
    }
   ],
   "source": [
    "a=[20,30,40,50]\n",
    "demo1=pd.Series(a)\n",
    "print(demo1)"
   ]
  },
  {
   "cell_type": "code",
   "execution_count": 9,
   "id": "521b90e3",
   "metadata": {},
   "outputs": [
    {
     "name": "stdout",
     "output_type": "stream",
     "text": [
      "m1    20\n",
      "m2    30\n",
      "m3    40\n",
      "m4    50\n",
      "dtype: int64\n"
     ]
    }
   ],
   "source": [
    "demo2=pd.Series(a,index=[\"m1\",\"m2\",\"m3\",\"m4\"])\n",
    "print(demo2)"
   ]
  },
  {
   "cell_type": "code",
   "execution_count": 10,
   "id": "755ea2ab",
   "metadata": {},
   "outputs": [
    {
     "name": "stdout",
     "output_type": "stream",
     "text": [
      "20\n"
     ]
    }
   ],
   "source": [
    "print(demo2\n",
    "      [\"m1\"])"
   ]
  },
  {
   "cell_type": "code",
   "execution_count": 12,
   "id": "eced12f6",
   "metadata": {},
   "outputs": [
    {
     "name": "stdout",
     "output_type": "stream",
     "text": [
      "kevin    299\n",
      "Keyur    100\n",
      "harsh    150\n",
      "dtype: int64\n"
     ]
    }
   ],
   "source": [
    "marks={\"kevin\":299,\"Keyur\":100,\"harsh\":150}\n",
    "demo3=pd.Series(marks)\n",
    "print(demo3)"
   ]
  },
  {
   "cell_type": "code",
   "execution_count": 13,
   "id": "3fdb381a",
   "metadata": {},
   "outputs": [
    {
     "name": "stdout",
     "output_type": "stream",
     "text": [
      "100\n"
     ]
    }
   ],
   "source": [
    "print(demo3[\"Keyur\"])"
   ]
  },
  {
   "cell_type": "code",
   "execution_count": 14,
   "id": "2d4d232f",
   "metadata": {},
   "outputs": [
    {
     "name": "stdout",
     "output_type": "stream",
     "text": [
      "harsh    150\n",
      "Keyur    100\n",
      "dtype: int64\n"
     ]
    }
   ],
   "source": [
    "demo3=pd.Series(marks,index={\"Keyur\",\"harsh\"})\n",
    "print(demo3)"
   ]
  },
  {
   "cell_type": "code",
   "execution_count": 15,
   "id": "ba63bb90",
   "metadata": {},
   "outputs": [
    {
     "name": "stdout",
     "output_type": "stream",
     "text": [
      "     Product  Price\n",
      "0  chocolate    150\n",
      "1       puff     20\n",
      "2     wafers     25\n"
     ]
    }
   ],
   "source": [
    "data={\"Product\":[\"chocolate\",\"puff\",\"wafers\"],\n",
    "     \"Price\":[150,20,25]}\n",
    "\n",
    "dataf=pd.DataFrame(data)\n",
    "print(dataf)"
   ]
  },
  {
   "cell_type": "code",
   "execution_count": 16,
   "id": "a18dc12c",
   "metadata": {},
   "outputs": [
    {
     "name": "stdout",
     "output_type": "stream",
     "text": [
      "Product    wafers\n",
      "Price          25\n",
      "Name: 2, dtype: object\n"
     ]
    }
   ],
   "source": [
    "print(dataf.loc[2])"
   ]
  },
  {
   "cell_type": "code",
   "execution_count": 17,
   "id": "05aab1e9",
   "metadata": {},
   "outputs": [
    {
     "name": "stdout",
     "output_type": "stream",
     "text": [
      "   roll no     name  total marks  obtain mark  percentage grade\n",
      "0      101  avinash          500          200          88     A\n",
      "1      102    harsh          600          300          77     A\n",
      "2      103    kevin          450          400          55   A++\n",
      "3      104     ansh          600          500          44     A\n",
      "4      105    keyur          350          300          99     C\n",
      "5      106  shubham          400          350          75     B\n",
      "6      107    paras          650          600          85    A+\n",
      "7      108    arjun          470          450          65     C\n",
      "8      109      avi          285          250          76     D\n",
      "9      110    pashv          382          350          52     B\n"
     ]
    }
   ],
   "source": [
    "stmark=pd.read_csv('demo.csv')\n",
    "print(stmark)"
   ]
  },
  {
   "cell_type": "code",
   "execution_count": 18,
   "id": "e5aff3be",
   "metadata": {},
   "outputs": [
    {
     "name": "stdout",
     "output_type": "stream",
     "text": [
      "60\n"
     ]
    }
   ],
   "source": [
    "print(pd.options.display.max_rows)"
   ]
  },
  {
   "cell_type": "code",
   "execution_count": 19,
   "id": "cdb2ef68",
   "metadata": {},
   "outputs": [
    {
     "name": "stdout",
     "output_type": "stream",
     "text": [
      "   roll no     name  total marks  obtain mark  percentage grade\n",
      "5      106  shubham          400          350          75     B\n",
      "6      107    paras          650          600          85    A+\n",
      "7      108    arjun          470          450          65     C\n",
      "8      109      avi          285          250          76     D\n",
      "9      110    pashv          382          350          52     B\n"
     ]
    }
   ],
   "source": [
    "print(stmark.tail())#get last five records "
   ]
  },
  {
   "cell_type": "code",
   "execution_count": 20,
   "id": "19a72d26",
   "metadata": {},
   "outputs": [
    {
     "name": "stdout",
     "output_type": "stream",
     "text": [
      "   roll no     name  total marks  obtain mark  percentage grade\n",
      "0      101  avinash          500          200          88     A\n",
      "1      102    harsh          600          300          77     A\n",
      "2      103    kevin          450          400          55   A++\n",
      "3      104     ansh          600          500          44     A\n",
      "4      105    keyur          350          300          99     C\n"
     ]
    }
   ],
   "source": [
    "print(stmark.head())#get first 5 records"
   ]
  },
  {
   "cell_type": "code",
   "execution_count": 21,
   "id": "8538d63d",
   "metadata": {},
   "outputs": [
    {
     "name": "stdout",
     "output_type": "stream",
     "text": [
      "<class 'pandas.core.frame.DataFrame'>\n",
      "RangeIndex: 10 entries, 0 to 9\n",
      "Data columns (total 6 columns):\n",
      " #   Column       Non-Null Count  Dtype \n",
      "---  ------       --------------  ----- \n",
      " 0   roll no      10 non-null     int64 \n",
      " 1   name         10 non-null     object\n",
      " 2   total marks  10 non-null     int64 \n",
      " 3   obtain mark  10 non-null     int64 \n",
      " 4   percentage   10 non-null     int64 \n",
      " 5   grade        10 non-null     object\n",
      "dtypes: int64(4), object(2)\n",
      "memory usage: 608.0+ bytes\n",
      "None\n"
     ]
    }
   ],
   "source": [
    "print(stmark.info())#info about csv file"
   ]
  },
  {
   "cell_type": "code",
   "execution_count": 22,
   "id": "dfc3988b",
   "metadata": {},
   "outputs": [
    {
     "name": "stdout",
     "output_type": "stream",
     "text": [
      "   roll no     name  total marks  obtain mark  percentage grade\n",
      "0      101  avinash          500          200          88     A\n",
      "1      102    harsh          600          300          77     A\n",
      "2      103    kevin          450          400          55   A++\n",
      "3      104     ansh          600          500          44     A\n",
      "4      105    keyur          350          300          99     C\n",
      "5      106  shubham          400          350          75     B\n",
      "6      107    paras          650          600          85    A+\n",
      "7      108    arjun          470          450          65     C\n",
      "8      109      avi          285          250          76     D\n",
      "9      110    pashv          382          350          52     B\n"
     ]
    }
   ],
   "source": [
    "new_stud=stmark.dropna()#delete row where column have null value in any field \n",
    "print(new_stud)"
   ]
  },
  {
   "cell_type": "code",
   "execution_count": 23,
   "id": "987e131d",
   "metadata": {},
   "outputs": [
    {
     "name": "stdout",
     "output_type": "stream",
     "text": [
      "   roll no     name  total marks  obtain mark  percentage grade\n",
      "0      101  avinash          500          200          88     A\n",
      "1      102    harsh          600          300          77     A\n",
      "2      103    kevin          450          400          55   A++\n",
      "3      104     ansh          600          500          44     A\n",
      "4      105    keyur          350          300          99     C\n",
      "5      106  shubham          400          350          75     B\n",
      "6      107    paras          650          600          85    A+\n",
      "7      108    arjun          470          450          65     C\n",
      "8      109      avi          285          250          76     D\n",
      "9      110    pashv          382          350          52     B\n"
     ]
    }
   ],
   "source": [
    "fill_stud=stmark.fillna(111)\n",
    "print(fill_stud)"
   ]
  },
  {
   "cell_type": "code",
   "execution_count": 26,
   "id": "98333d0b",
   "metadata": {},
   "outputs": [
    {
     "data": {
      "text/plain": [
       "0    200\n",
       "1    300\n",
       "2    400\n",
       "3    500\n",
       "4    300\n",
       "5    350\n",
       "6    600\n",
       "7    450\n",
       "8    250\n",
       "9    350\n",
       "Name: obtain mark, dtype: int64"
      ]
     },
     "execution_count": 26,
     "metadata": {},
     "output_type": "execute_result"
    }
   ],
   "source": [
    "stmark[\"obtain mark\"].fillna(2000)"
   ]
  },
  {
   "cell_type": "code",
   "execution_count": null,
   "id": "4ced3db1",
   "metadata": {},
   "outputs": [],
   "source": []
  },
  {
   "cell_type": "code",
   "execution_count": 28,
   "id": "cc0fca77",
   "metadata": {},
   "outputs": [
    {
     "name": "stdout",
     "output_type": "stream",
     "text": [
      "Mean is : 370.0\n"
     ]
    }
   ],
   "source": [
    "mean=stmark[\"obtain mark\"].mean()\n",
    "print(\"Mean is :\",mean)"
   ]
  },
  {
   "cell_type": "code",
   "execution_count": 30,
   "id": "8dc6babb",
   "metadata": {},
   "outputs": [
    {
     "name": "stdout",
     "output_type": "stream",
     "text": [
      "Median is : 350.0\n"
     ]
    }
   ],
   "source": [
    "median=stmark[\"obtain mark\"].median()\n",
    "print(\"Median is :\",median)"
   ]
  },
  {
   "cell_type": "code",
   "execution_count": 31,
   "id": "76d26225",
   "metadata": {},
   "outputs": [
    {
     "name": "stdout",
     "output_type": "stream",
     "text": [
      "Mode is : 0    300\n",
      "1    350\n",
      "Name: obtain mark, dtype: int64\n"
     ]
    }
   ],
   "source": [
    "mode=stmark[\"obtain mark\"].mode()\n",
    "print(\"Mode is :\",mode)"
   ]
  },
  {
   "cell_type": "code",
   "execution_count": 32,
   "id": "35dc5cfd",
   "metadata": {},
   "outputs": [
    {
     "data": {
      "text/plain": [
       "Index(['roll no', 'name', 'total marks', 'obtain mark', 'percentage', 'grade'], dtype='object')"
      ]
     },
     "execution_count": 32,
     "metadata": {},
     "output_type": "execute_result"
    }
   ],
   "source": [
    "stmark.columns #get colmn name in csv file"
   ]
  },
  {
   "cell_type": "code",
   "execution_count": 33,
   "id": "08da92f2",
   "metadata": {},
   "outputs": [
    {
     "name": "stdout",
     "output_type": "stream",
     "text": [
      "   roll no     name  total marks  obtain mark  percentage grade\n",
      "2      103    kevin          450          400          55   A++\n",
      "3      104     ansh          600          500          44     A\n",
      "4      105    keyur          350          300          99     C\n",
      "5      106  shubham          400          350          75     B\n"
     ]
    }
   ],
   "source": [
    "print(stmark.loc[2:5])"
   ]
  },
  {
   "cell_type": "code",
   "execution_count": 34,
   "id": "2db95254",
   "metadata": {},
   "outputs": [
    {
     "data": {
      "text/html": [
       "<div>\n",
       "<style scoped>\n",
       "    .dataframe tbody tr th:only-of-type {\n",
       "        vertical-align: middle;\n",
       "    }\n",
       "\n",
       "    .dataframe tbody tr th {\n",
       "        vertical-align: top;\n",
       "    }\n",
       "\n",
       "    .dataframe thead th {\n",
       "        text-align: right;\n",
       "    }\n",
       "</style>\n",
       "<table border=\"1\" class=\"dataframe\">\n",
       "  <thead>\n",
       "    <tr style=\"text-align: right;\">\n",
       "      <th></th>\n",
       "      <th>roll no</th>\n",
       "      <th>name</th>\n",
       "      <th>total marks</th>\n",
       "      <th>obtain mark</th>\n",
       "      <th>percentage</th>\n",
       "      <th>grade</th>\n",
       "    </tr>\n",
       "  </thead>\n",
       "  <tbody>\n",
       "    <tr>\n",
       "      <th>6</th>\n",
       "      <td>107</td>\n",
       "      <td>paras</td>\n",
       "      <td>650</td>\n",
       "      <td>600</td>\n",
       "      <td>85</td>\n",
       "      <td>A+</td>\n",
       "    </tr>\n",
       "    <tr>\n",
       "      <th>3</th>\n",
       "      <td>104</td>\n",
       "      <td>ansh</td>\n",
       "      <td>600</td>\n",
       "      <td>500</td>\n",
       "      <td>44</td>\n",
       "      <td>A</td>\n",
       "    </tr>\n",
       "    <tr>\n",
       "      <th>7</th>\n",
       "      <td>108</td>\n",
       "      <td>arjun</td>\n",
       "      <td>470</td>\n",
       "      <td>450</td>\n",
       "      <td>65</td>\n",
       "      <td>C</td>\n",
       "    </tr>\n",
       "    <tr>\n",
       "      <th>2</th>\n",
       "      <td>103</td>\n",
       "      <td>kevin</td>\n",
       "      <td>450</td>\n",
       "      <td>400</td>\n",
       "      <td>55</td>\n",
       "      <td>A++</td>\n",
       "    </tr>\n",
       "    <tr>\n",
       "      <th>5</th>\n",
       "      <td>106</td>\n",
       "      <td>shubham</td>\n",
       "      <td>400</td>\n",
       "      <td>350</td>\n",
       "      <td>75</td>\n",
       "      <td>B</td>\n",
       "    </tr>\n",
       "    <tr>\n",
       "      <th>9</th>\n",
       "      <td>110</td>\n",
       "      <td>pashv</td>\n",
       "      <td>382</td>\n",
       "      <td>350</td>\n",
       "      <td>52</td>\n",
       "      <td>B</td>\n",
       "    </tr>\n",
       "    <tr>\n",
       "      <th>1</th>\n",
       "      <td>102</td>\n",
       "      <td>harsh</td>\n",
       "      <td>600</td>\n",
       "      <td>300</td>\n",
       "      <td>77</td>\n",
       "      <td>A</td>\n",
       "    </tr>\n",
       "    <tr>\n",
       "      <th>4</th>\n",
       "      <td>105</td>\n",
       "      <td>keyur</td>\n",
       "      <td>350</td>\n",
       "      <td>300</td>\n",
       "      <td>99</td>\n",
       "      <td>C</td>\n",
       "    </tr>\n",
       "    <tr>\n",
       "      <th>8</th>\n",
       "      <td>109</td>\n",
       "      <td>avi</td>\n",
       "      <td>285</td>\n",
       "      <td>250</td>\n",
       "      <td>76</td>\n",
       "      <td>D</td>\n",
       "    </tr>\n",
       "    <tr>\n",
       "      <th>0</th>\n",
       "      <td>101</td>\n",
       "      <td>avinash</td>\n",
       "      <td>500</td>\n",
       "      <td>200</td>\n",
       "      <td>88</td>\n",
       "      <td>A</td>\n",
       "    </tr>\n",
       "  </tbody>\n",
       "</table>\n",
       "</div>"
      ],
      "text/plain": [
       "   roll no     name  total marks  obtain mark  percentage grade\n",
       "6      107    paras          650          600          85    A+\n",
       "3      104     ansh          600          500          44     A\n",
       "7      108    arjun          470          450          65     C\n",
       "2      103    kevin          450          400          55   A++\n",
       "5      106  shubham          400          350          75     B\n",
       "9      110    pashv          382          350          52     B\n",
       "1      102    harsh          600          300          77     A\n",
       "4      105    keyur          350          300          99     C\n",
       "8      109      avi          285          250          76     D\n",
       "0      101  avinash          500          200          88     A"
      ]
     },
     "execution_count": 34,
     "metadata": {},
     "output_type": "execute_result"
    }
   ],
   "source": [
    "stmark.sort_values([\"obtain mark\"],ascending=0)# for ascending"
   ]
  },
  {
   "cell_type": "code",
   "execution_count": 35,
   "id": "c6d230bf",
   "metadata": {},
   "outputs": [
    {
     "data": {
      "text/html": [
       "<div>\n",
       "<style scoped>\n",
       "    .dataframe tbody tr th:only-of-type {\n",
       "        vertical-align: middle;\n",
       "    }\n",
       "\n",
       "    .dataframe tbody tr th {\n",
       "        vertical-align: top;\n",
       "    }\n",
       "\n",
       "    .dataframe thead th {\n",
       "        text-align: right;\n",
       "    }\n",
       "</style>\n",
       "<table border=\"1\" class=\"dataframe\">\n",
       "  <thead>\n",
       "    <tr style=\"text-align: right;\">\n",
       "      <th></th>\n",
       "      <th>roll no</th>\n",
       "      <th>name</th>\n",
       "      <th>total marks</th>\n",
       "      <th>obtain mark</th>\n",
       "      <th>percentage</th>\n",
       "      <th>grade</th>\n",
       "    </tr>\n",
       "  </thead>\n",
       "  <tbody>\n",
       "    <tr>\n",
       "      <th>0</th>\n",
       "      <td>101</td>\n",
       "      <td>avinash</td>\n",
       "      <td>500</td>\n",
       "      <td>200</td>\n",
       "      <td>88</td>\n",
       "      <td>A</td>\n",
       "    </tr>\n",
       "    <tr>\n",
       "      <th>8</th>\n",
       "      <td>109</td>\n",
       "      <td>avi</td>\n",
       "      <td>285</td>\n",
       "      <td>250</td>\n",
       "      <td>76</td>\n",
       "      <td>D</td>\n",
       "    </tr>\n",
       "    <tr>\n",
       "      <th>1</th>\n",
       "      <td>102</td>\n",
       "      <td>harsh</td>\n",
       "      <td>600</td>\n",
       "      <td>300</td>\n",
       "      <td>77</td>\n",
       "      <td>A</td>\n",
       "    </tr>\n",
       "    <tr>\n",
       "      <th>4</th>\n",
       "      <td>105</td>\n",
       "      <td>keyur</td>\n",
       "      <td>350</td>\n",
       "      <td>300</td>\n",
       "      <td>99</td>\n",
       "      <td>C</td>\n",
       "    </tr>\n",
       "    <tr>\n",
       "      <th>5</th>\n",
       "      <td>106</td>\n",
       "      <td>shubham</td>\n",
       "      <td>400</td>\n",
       "      <td>350</td>\n",
       "      <td>75</td>\n",
       "      <td>B</td>\n",
       "    </tr>\n",
       "    <tr>\n",
       "      <th>9</th>\n",
       "      <td>110</td>\n",
       "      <td>pashv</td>\n",
       "      <td>382</td>\n",
       "      <td>350</td>\n",
       "      <td>52</td>\n",
       "      <td>B</td>\n",
       "    </tr>\n",
       "    <tr>\n",
       "      <th>2</th>\n",
       "      <td>103</td>\n",
       "      <td>kevin</td>\n",
       "      <td>450</td>\n",
       "      <td>400</td>\n",
       "      <td>55</td>\n",
       "      <td>A++</td>\n",
       "    </tr>\n",
       "    <tr>\n",
       "      <th>7</th>\n",
       "      <td>108</td>\n",
       "      <td>arjun</td>\n",
       "      <td>470</td>\n",
       "      <td>450</td>\n",
       "      <td>65</td>\n",
       "      <td>C</td>\n",
       "    </tr>\n",
       "    <tr>\n",
       "      <th>3</th>\n",
       "      <td>104</td>\n",
       "      <td>ansh</td>\n",
       "      <td>600</td>\n",
       "      <td>500</td>\n",
       "      <td>44</td>\n",
       "      <td>A</td>\n",
       "    </tr>\n",
       "    <tr>\n",
       "      <th>6</th>\n",
       "      <td>107</td>\n",
       "      <td>paras</td>\n",
       "      <td>650</td>\n",
       "      <td>600</td>\n",
       "      <td>85</td>\n",
       "      <td>A+</td>\n",
       "    </tr>\n",
       "  </tbody>\n",
       "</table>\n",
       "</div>"
      ],
      "text/plain": [
       "   roll no     name  total marks  obtain mark  percentage grade\n",
       "0      101  avinash          500          200          88     A\n",
       "8      109      avi          285          250          76     D\n",
       "1      102    harsh          600          300          77     A\n",
       "4      105    keyur          350          300          99     C\n",
       "5      106  shubham          400          350          75     B\n",
       "9      110    pashv          382          350          52     B\n",
       "2      103    kevin          450          400          55   A++\n",
       "7      108    arjun          470          450          65     C\n",
       "3      104     ansh          600          500          44     A\n",
       "6      107    paras          650          600          85    A+"
      ]
     },
     "execution_count": 35,
     "metadata": {},
     "output_type": "execute_result"
    }
   ],
   "source": [
    "stmark.sort_values([\"obtain mark\"],ascending=1)#for desending"
   ]
  },
  {
   "cell_type": "code",
   "execution_count": 40,
   "id": "7290e8c9",
   "metadata": {},
   "outputs": [
    {
     "data": {
      "text/html": [
       "<div>\n",
       "<style scoped>\n",
       "    .dataframe tbody tr th:only-of-type {\n",
       "        vertical-align: middle;\n",
       "    }\n",
       "\n",
       "    .dataframe tbody tr th {\n",
       "        vertical-align: top;\n",
       "    }\n",
       "\n",
       "    .dataframe thead th {\n",
       "        text-align: right;\n",
       "    }\n",
       "</style>\n",
       "<table border=\"1\" class=\"dataframe\">\n",
       "  <thead>\n",
       "    <tr style=\"text-align: right;\">\n",
       "      <th></th>\n",
       "      <th>roll no</th>\n",
       "      <th>name</th>\n",
       "      <th>total marks</th>\n",
       "      <th>obtain mark</th>\n",
       "      <th>percentage</th>\n",
       "      <th>grade</th>\n",
       "    </tr>\n",
       "  </thead>\n",
       "  <tbody>\n",
       "    <tr>\n",
       "      <th>0</th>\n",
       "      <td>101</td>\n",
       "      <td>avinash</td>\n",
       "      <td>500</td>\n",
       "      <td>200</td>\n",
       "      <td>40.000000</td>\n",
       "      <td>A</td>\n",
       "    </tr>\n",
       "    <tr>\n",
       "      <th>1</th>\n",
       "      <td>102</td>\n",
       "      <td>harsh</td>\n",
       "      <td>600</td>\n",
       "      <td>300</td>\n",
       "      <td>50.000000</td>\n",
       "      <td>A</td>\n",
       "    </tr>\n",
       "    <tr>\n",
       "      <th>2</th>\n",
       "      <td>103</td>\n",
       "      <td>kevin</td>\n",
       "      <td>450</td>\n",
       "      <td>400</td>\n",
       "      <td>88.888889</td>\n",
       "      <td>A++</td>\n",
       "    </tr>\n",
       "    <tr>\n",
       "      <th>3</th>\n",
       "      <td>104</td>\n",
       "      <td>ansh</td>\n",
       "      <td>600</td>\n",
       "      <td>500</td>\n",
       "      <td>83.333333</td>\n",
       "      <td>A</td>\n",
       "    </tr>\n",
       "    <tr>\n",
       "      <th>4</th>\n",
       "      <td>105</td>\n",
       "      <td>keyur</td>\n",
       "      <td>350</td>\n",
       "      <td>300</td>\n",
       "      <td>85.714286</td>\n",
       "      <td>C</td>\n",
       "    </tr>\n",
       "  </tbody>\n",
       "</table>\n",
       "</div>"
      ],
      "text/plain": [
       "   roll no     name  total marks  obtain mark  percentage grade\n",
       "0      101  avinash          500          200   40.000000     A\n",
       "1      102    harsh          600          300   50.000000     A\n",
       "2      103    kevin          450          400   88.888889   A++\n",
       "3      104     ansh          600          500   83.333333     A\n",
       "4      105    keyur          350          300   85.714286     C"
      ]
     },
     "execution_count": 40,
     "metadata": {},
     "output_type": "execute_result"
    }
   ],
   "source": [
    "\n",
    "stmark['percentage']=(stmark['obtain mark']/stmark[\"total marks\"])*100\n",
    "stmark.head(5)"
   ]
  },
  {
   "cell_type": "code",
   "execution_count": null,
   "id": "07b40816",
   "metadata": {},
   "outputs": [],
   "source": []
  }
 ],
 "metadata": {
  "kernelspec": {
   "display_name": "Python 3 (ipykernel)",
   "language": "python",
   "name": "python3"
  },
  "language_info": {
   "codemirror_mode": {
    "name": "ipython",
    "version": 3
   },
   "file_extension": ".py",
   "mimetype": "text/x-python",
   "name": "python",
   "nbconvert_exporter": "python",
   "pygments_lexer": "ipython3",
   "version": "3.9.12"
  }
 },
 "nbformat": 4,
 "nbformat_minor": 5
}
